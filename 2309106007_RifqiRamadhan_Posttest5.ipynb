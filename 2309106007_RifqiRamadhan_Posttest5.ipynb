{
  "nbformat": 4,
  "nbformat_minor": 0,
  "metadata": {
    "colab": {
      "provenance": []
    },
    "kernelspec": {
      "name": "python3",
      "display_name": "Python 3"
    },
    "language_info": {
      "name": "python"
    }
  },
  "cells": [
    {
      "cell_type": "markdown",
      "source": [
        "# POSTTEST 5"
      ],
      "metadata": {
        "id": "0xUNTMO-H_eO"
      }
    },
    {
      "cell_type": "markdown",
      "source": [
        "Buatlah model deep learning dengan ketentuan sebagai berikut:\n",
        "Instruksi:\n",
        "1. Dataset tidak boleh sama antar praktikan\n",
        "2. Minimal akurasi training 70% dan validation 70%\n",
        "3. Gunakan sequential model\n",
        "4. Buat model deep learning sederhana\n",
        "Rekomendasi: Gunakan dataset yang sudah bersih seperti dari library sklearn, tensorflow, MNIST, atau dari library lainnya"
      ],
      "metadata": {
        "id": "rN-DMRdLICJn"
      }
    },
    {
      "cell_type": "markdown",
      "source": [
        "## 1. Import Library"
      ],
      "metadata": {
        "id": "AuE0rjZFMt-A"
      }
    },
    {
      "cell_type": "code",
      "execution_count": 14,
      "metadata": {
        "id": "OXTtbVFk98rH"
      },
      "outputs": [],
      "source": [
        "import pandas as pd\n",
        "import tensorflow as tf\n",
        "from tensorflow.keras.models import Sequential\n",
        "from tensorflow.keras.layers import Dense, Dropout\n",
        "from sklearn.model_selection import train_test_split\n",
        "from sklearn.preprocessing import StandardScaler, LabelEncoder, OneHotEncoder\n",
        "from sklearn.compose import ColumnTransformer\n",
        "import matplotlib.pyplot as plt\n",
        "\n",
        "df = pd.read_csv('ScreenTime_vs_MentalWellness.csv')"
      ]
    },
    {
      "cell_type": "markdown",
      "source": [
        "## 2. Membersihkan Data dan feature Engineering"
      ],
      "metadata": {
        "id": "RiDoiHmUM492"
      }
    },
    {
      "cell_type": "code",
      "source": [
        "# Membersihkan kolom yang tidak perlu dan data duplikat\n",
        "df.drop(columns=['Unnamed: 15', 'user_id'], inplace=True, errors='ignore')\n",
        "df.drop_duplicates(inplace=True)\n",
        "\n",
        "# Membuat target klasifikasi baru 'wellness_category'\n",
        "bins = [0, 33, 66, 100]\n",
        "labels = ['Rendah', 'Sedang', 'Tinggi']\n",
        "df['wellness_category'] = pd.cut(df['mental_wellness_index_0_100'], bins=bins, labels=labels, include_lowest=True)\n",
        "\n",
        "# Menghapus kolom target numerik yang asli\n",
        "df = df.drop('mental_wellness_index_0_100', axis=1)\n",
        "\n",
        "# Memisahkan fitur (X) dan target baru (y)\n",
        "X = df.drop('wellness_category', axis=1)\n",
        "y = df['wellness_category']\n",
        "\n",
        "print(\"data setelah membuat target kategorikal:\")\n",
        "print(df.head())\n",
        "print(\"\\nDistribusi kategori target:\")\n",
        "print(y.value_counts())"
      ],
      "metadata": {
        "colab": {
          "base_uri": "https://localhost:8080/"
        },
        "id": "2KA3OHSiHAPH",
        "outputId": "f0a50f51-8ad1-46cb-cb8d-aefbd1cd5869"
      },
      "execution_count": 15,
      "outputs": [
        {
          "output_type": "stream",
          "name": "stdout",
          "text": [
            "data setelah membuat target kategorikal:\n",
            "   age  gender occupation  work_mode  screen_time_hours  work_screen_hours  \\\n",
            "0   33  Female   Employed     Remote              10.79               5.44   \n",
            "1   28  Female   Employed  In-person               7.40               0.37   \n",
            "2   35  Female   Employed     Hybrid               9.78               1.09   \n",
            "3   42    Male   Employed     Hybrid              11.13               0.56   \n",
            "4   28    Male    Student     Remote              13.22               4.09   \n",
            "\n",
            "   leisure_screen_hours  sleep_hours  sleep_quality_1_5  stress_level_0_10  \\\n",
            "0                  5.35         6.63                  1                9.3   \n",
            "1                  7.03         8.05                  3                5.7   \n",
            "2                  8.69         6.48                  1                9.1   \n",
            "3                 10.57         6.89                  1               10.0   \n",
            "4                  9.13         5.79                  1               10.0   \n",
            "\n",
            "   productivity_0_100  exercise_minutes_per_week  social_hours_per_week  \\\n",
            "0                44.7                        127                    0.7   \n",
            "1                78.0                         74                    2.1   \n",
            "2                51.8                         67                    8.0   \n",
            "3                37.0                          0                    5.7   \n",
            "4                38.5                        143                   10.1   \n",
            "\n",
            "  wellness_category  \n",
            "0            Rendah  \n",
            "1            Sedang  \n",
            "2            Rendah  \n",
            "3            Rendah  \n",
            "4            Rendah  \n",
            "\n",
            "Distribusi kategori target:\n",
            "wellness_category\n",
            "Rendah    311\n",
            "Sedang     72\n",
            "Tinggi     17\n",
            "Name: count, dtype: int64\n"
          ]
        }
      ]
    },
    {
      "cell_type": "markdown",
      "source": [
        "Output dari cell ini menunjukkan hasil transformasi dataset awal menjadi format yang sesuai untuk tugas klasifikasi. Setelah membersihkan kolom yang tidak relevan, langkah paling krusial adalah penciptaan kolom target baru yaitu wellness_category. Kolom ini berhasil mengelompokkan mental_wellness_index yang tadinya numerik menjadi tiga kategori diskrit: 'Rendah', 'Sedang', dan 'Tinggi'. Tabel head() yang ditampilkan adalah bukti bahwa kolom baru telah ditambahkan, dan output value_counts() memberikan konfirmasi mengenai distribusi jumlah data di setiap kategori, yang penting untuk memastikan dataset seimbang sebelum dilatih."
      ],
      "metadata": {
        "id": "9dmt3memVCcv"
      }
    },
    {
      "cell_type": "markdown",
      "source": [
        "## 3. Encoding dan Scaling"
      ],
      "metadata": {
        "id": "nLJnrh99M86_"
      }
    },
    {
      "cell_type": "code",
      "source": [
        "# Mengidentifikasi kolom numerik dan kategorikal di fitur (X)\n",
        "numerical_features = X.select_dtypes(include=['number']).columns\n",
        "categorical_features = X.select_dtypes(include=['object']).columns\n",
        "\n",
        "# Membuat preprocessor dengan ColumnTransformer\n",
        "# Kolom numerik akan di-scale, kolom kategorikal akan di-one-hot-encode\n",
        "preprocessor = ColumnTransformer(\n",
        "    transformers=[\n",
        "        ('num', StandardScaler(), numerical_features),\n",
        "        ('cat', OneHotEncoder(), categorical_features)\n",
        "    ])\n",
        "\n",
        "# Terapkan preprocessor pada X\n",
        "X_processed = preprocessor.fit_transform(X)\n",
        "\n",
        "# Encode target (y) dari teks menjadi angka (0, 1, 2)\n",
        "label_encoder = LabelEncoder()\n",
        "y_encoded = label_encoder.fit_transform(y)\n",
        "\n",
        "# Membagi data menjadi data latih dan data uji\n",
        "X_train, X_test, y_train, y_test = train_test_split(X_processed, y_encoded, test_size=0.2, random_state=42, stratify=y_encoded)\n",
        "\n",
        "print(f\"\\nBentuk X_train setelah diproses: {X_train.shape}\")\n",
        "print(f\"Bentuk X_test setelah diproses: {X_test.shape}\")"
      ],
      "metadata": {
        "colab": {
          "base_uri": "https://localhost:8080/"
        },
        "id": "I-rw-JRWHGku",
        "outputId": "47ace011-fc75-4365-9211-6f238ca6a8b3"
      },
      "execution_count": 16,
      "outputs": [
        {
          "output_type": "stream",
          "name": "stdout",
          "text": [
            "\n",
            "Bentuk X_train setelah diproses: (320, 21)\n",
            "Bentuk X_test setelah diproses: (80, 21)\n"
          ]
        }
      ]
    },
    {
      "cell_type": "markdown",
      "source": [
        "Cell ini menjalankan tahap persiapan data yang fundamental sebelum dimasukkan ke dalam model deep learning. Output yang menunjukkan shape (bentuk) dari data latih dan data uji mengkonfirmasi bahwa proses preprocessing telah berhasil. Semua fitur numerik telah diubah ke skala yang seragam melalui StandardScaler, dan semua fitur kategorikal berbasis teks telah diubah menjadi format numerik melalui OneHotEncoder. Hasilnya adalah sebuah matriks yang sepenuhnya numerik dan terstruktur, yang merupakan format wajib agar dapat diproses oleh model neural network."
      ],
      "metadata": {
        "id": "3GU_h-5cVZkD"
      }
    },
    {
      "cell_type": "markdown",
      "source": [
        "## 4. Membangun Model"
      ],
      "metadata": {
        "id": "UQVMVwExNNd4"
      }
    },
    {
      "cell_type": "code",
      "source": [
        "# Inisialisasi model Sequential\n",
        "model = Sequential()\n",
        "\n",
        "# Menambahkan lapisan-lapisan\n",
        "model.add(Dense(64, activation='relu', input_shape=(X_train.shape[1],)))\n",
        "model.add(Dropout(0.3)) # Dropout untuk mencegah overfitting\n",
        "model.add(Dense(32, activation='relu'))\n",
        "model.add(Dropout(0.3))\n",
        "\n",
        "# Lapisan Output: 3 neuron (untuk 3 kelas) dengan aktivasi softmax\n",
        "model.add(Dense(3, activation='softmax'))\n",
        "\n",
        "# Menampilkan ringkasan arsitektur\n",
        "model.summary()"
      ],
      "metadata": {
        "colab": {
          "base_uri": "https://localhost:8080/",
          "height": 361
        },
        "id": "allfg6kEHKSo",
        "outputId": "5e9dfd8f-b8e4-497f-86ac-3538142165c4"
      },
      "execution_count": 17,
      "outputs": [
        {
          "output_type": "stream",
          "name": "stderr",
          "text": [
            "/usr/local/lib/python3.12/dist-packages/keras/src/layers/core/dense.py:93: UserWarning: Do not pass an `input_shape`/`input_dim` argument to a layer. When using Sequential models, prefer using an `Input(shape)` object as the first layer in the model instead.\n",
            "  super().__init__(activity_regularizer=activity_regularizer, **kwargs)\n"
          ]
        },
        {
          "output_type": "display_data",
          "data": {
            "text/plain": [
              "\u001b[1mModel: \"sequential_1\"\u001b[0m\n"
            ],
            "text/html": [
              "<pre style=\"white-space:pre;overflow-x:auto;line-height:normal;font-family:Menlo,'DejaVu Sans Mono',consolas,'Courier New',monospace\"><span style=\"font-weight: bold\">Model: \"sequential_1\"</span>\n",
              "</pre>\n"
            ]
          },
          "metadata": {}
        },
        {
          "output_type": "display_data",
          "data": {
            "text/plain": [
              "┏━━━━━━━━━━━━━━━━━━━━━━━━━━━━━━━━━┳━━━━━━━━━━━━━━━━━━━━━━━━┳━━━━━━━━━━━━━━━┓\n",
              "┃\u001b[1m \u001b[0m\u001b[1mLayer (type)                   \u001b[0m\u001b[1m \u001b[0m┃\u001b[1m \u001b[0m\u001b[1mOutput Shape          \u001b[0m\u001b[1m \u001b[0m┃\u001b[1m \u001b[0m\u001b[1m      Param #\u001b[0m\u001b[1m \u001b[0m┃\n",
              "┡━━━━━━━━━━━━━━━━━━━━━━━━━━━━━━━━━╇━━━━━━━━━━━━━━━━━━━━━━━━╇━━━━━━━━━━━━━━━┩\n",
              "│ dense_3 (\u001b[38;5;33mDense\u001b[0m)                 │ (\u001b[38;5;45mNone\u001b[0m, \u001b[38;5;34m64\u001b[0m)             │         \u001b[38;5;34m1,408\u001b[0m │\n",
              "├─────────────────────────────────┼────────────────────────┼───────────────┤\n",
              "│ dropout_2 (\u001b[38;5;33mDropout\u001b[0m)             │ (\u001b[38;5;45mNone\u001b[0m, \u001b[38;5;34m64\u001b[0m)             │             \u001b[38;5;34m0\u001b[0m │\n",
              "├─────────────────────────────────┼────────────────────────┼───────────────┤\n",
              "│ dense_4 (\u001b[38;5;33mDense\u001b[0m)                 │ (\u001b[38;5;45mNone\u001b[0m, \u001b[38;5;34m32\u001b[0m)             │         \u001b[38;5;34m2,080\u001b[0m │\n",
              "├─────────────────────────────────┼────────────────────────┼───────────────┤\n",
              "│ dropout_3 (\u001b[38;5;33mDropout\u001b[0m)             │ (\u001b[38;5;45mNone\u001b[0m, \u001b[38;5;34m32\u001b[0m)             │             \u001b[38;5;34m0\u001b[0m │\n",
              "├─────────────────────────────────┼────────────────────────┼───────────────┤\n",
              "│ dense_5 (\u001b[38;5;33mDense\u001b[0m)                 │ (\u001b[38;5;45mNone\u001b[0m, \u001b[38;5;34m3\u001b[0m)              │            \u001b[38;5;34m99\u001b[0m │\n",
              "└─────────────────────────────────┴────────────────────────┴───────────────┘\n"
            ],
            "text/html": [
              "<pre style=\"white-space:pre;overflow-x:auto;line-height:normal;font-family:Menlo,'DejaVu Sans Mono',consolas,'Courier New',monospace\">┏━━━━━━━━━━━━━━━━━━━━━━━━━━━━━━━━━┳━━━━━━━━━━━━━━━━━━━━━━━━┳━━━━━━━━━━━━━━━┓\n",
              "┃<span style=\"font-weight: bold\"> Layer (type)                    </span>┃<span style=\"font-weight: bold\"> Output Shape           </span>┃<span style=\"font-weight: bold\">       Param # </span>┃\n",
              "┡━━━━━━━━━━━━━━━━━━━━━━━━━━━━━━━━━╇━━━━━━━━━━━━━━━━━━━━━━━━╇━━━━━━━━━━━━━━━┩\n",
              "│ dense_3 (<span style=\"color: #0087ff; text-decoration-color: #0087ff\">Dense</span>)                 │ (<span style=\"color: #00d7ff; text-decoration-color: #00d7ff\">None</span>, <span style=\"color: #00af00; text-decoration-color: #00af00\">64</span>)             │         <span style=\"color: #00af00; text-decoration-color: #00af00\">1,408</span> │\n",
              "├─────────────────────────────────┼────────────────────────┼───────────────┤\n",
              "│ dropout_2 (<span style=\"color: #0087ff; text-decoration-color: #0087ff\">Dropout</span>)             │ (<span style=\"color: #00d7ff; text-decoration-color: #00d7ff\">None</span>, <span style=\"color: #00af00; text-decoration-color: #00af00\">64</span>)             │             <span style=\"color: #00af00; text-decoration-color: #00af00\">0</span> │\n",
              "├─────────────────────────────────┼────────────────────────┼───────────────┤\n",
              "│ dense_4 (<span style=\"color: #0087ff; text-decoration-color: #0087ff\">Dense</span>)                 │ (<span style=\"color: #00d7ff; text-decoration-color: #00d7ff\">None</span>, <span style=\"color: #00af00; text-decoration-color: #00af00\">32</span>)             │         <span style=\"color: #00af00; text-decoration-color: #00af00\">2,080</span> │\n",
              "├─────────────────────────────────┼────────────────────────┼───────────────┤\n",
              "│ dropout_3 (<span style=\"color: #0087ff; text-decoration-color: #0087ff\">Dropout</span>)             │ (<span style=\"color: #00d7ff; text-decoration-color: #00d7ff\">None</span>, <span style=\"color: #00af00; text-decoration-color: #00af00\">32</span>)             │             <span style=\"color: #00af00; text-decoration-color: #00af00\">0</span> │\n",
              "├─────────────────────────────────┼────────────────────────┼───────────────┤\n",
              "│ dense_5 (<span style=\"color: #0087ff; text-decoration-color: #0087ff\">Dense</span>)                 │ (<span style=\"color: #00d7ff; text-decoration-color: #00d7ff\">None</span>, <span style=\"color: #00af00; text-decoration-color: #00af00\">3</span>)              │            <span style=\"color: #00af00; text-decoration-color: #00af00\">99</span> │\n",
              "└─────────────────────────────────┴────────────────────────┴───────────────┘\n",
              "</pre>\n"
            ]
          },
          "metadata": {}
        },
        {
          "output_type": "display_data",
          "data": {
            "text/plain": [
              "\u001b[1m Total params: \u001b[0m\u001b[38;5;34m3,587\u001b[0m (14.01 KB)\n"
            ],
            "text/html": [
              "<pre style=\"white-space:pre;overflow-x:auto;line-height:normal;font-family:Menlo,'DejaVu Sans Mono',consolas,'Courier New',monospace\"><span style=\"font-weight: bold\"> Total params: </span><span style=\"color: #00af00; text-decoration-color: #00af00\">3,587</span> (14.01 KB)\n",
              "</pre>\n"
            ]
          },
          "metadata": {}
        },
        {
          "output_type": "display_data",
          "data": {
            "text/plain": [
              "\u001b[1m Trainable params: \u001b[0m\u001b[38;5;34m3,587\u001b[0m (14.01 KB)\n"
            ],
            "text/html": [
              "<pre style=\"white-space:pre;overflow-x:auto;line-height:normal;font-family:Menlo,'DejaVu Sans Mono',consolas,'Courier New',monospace\"><span style=\"font-weight: bold\"> Trainable params: </span><span style=\"color: #00af00; text-decoration-color: #00af00\">3,587</span> (14.01 KB)\n",
              "</pre>\n"
            ]
          },
          "metadata": {}
        },
        {
          "output_type": "display_data",
          "data": {
            "text/plain": [
              "\u001b[1m Non-trainable params: \u001b[0m\u001b[38;5;34m0\u001b[0m (0.00 B)\n"
            ],
            "text/html": [
              "<pre style=\"white-space:pre;overflow-x:auto;line-height:normal;font-family:Menlo,'DejaVu Sans Mono',consolas,'Courier New',monospace\"><span style=\"font-weight: bold\"> Non-trainable params: </span><span style=\"color: #00af00; text-decoration-color: #00af00\">0</span> (0.00 B)\n",
              "</pre>\n"
            ]
          },
          "metadata": {}
        }
      ]
    },
    {
      "cell_type": "markdown",
      "source": [
        "Ringkasan model (model.summary()) yang dihasilkan oleh cell ini berfungsi sebagai \"cetak biru\" dari arsitektur neural network yang telah kita rancang. Output ini merinci setiap lapisan (Layer) secara berurutan, jumlah neuron di dalamnya (Output Shape), serta jumlah parameter (bobot) yang akan dilatih oleh model. Dari sini, kita dapat memastikan bahwa arsitektur telah dibangun dengan benar, mulai dari lapisan input yang sesuai dengan jumlah fitur kita, lapisan tersembunyi (hidden layers) untuk pembelajaran pola, hingga lapisan output dengan 3 neuron dan aktivasi softmax yang tepat untuk tugas klasifikasi tiga kelas ini."
      ],
      "metadata": {
        "id": "BfO8_e5JVg0b"
      }
    },
    {
      "cell_type": "markdown",
      "source": [
        "## 6. Melatih dan Mengevaluasi model"
      ],
      "metadata": {
        "id": "omwVvejEOuF9"
      }
    },
    {
      "cell_type": "code",
      "source": [
        "# Mengkompilasi model\n",
        "model.compile(optimizer='adam',\n",
        "              loss='sparse_categorical_crossentropy',\n",
        "              metrics=['accuracy'])"
      ],
      "metadata": {
        "id": "Z1tKP945HMTH"
      },
      "execution_count": 18,
      "outputs": []
    },
    {
      "cell_type": "code",
      "source": [
        "from tensorflow.keras.callbacks import EarlyStopping\n",
        "\n",
        "early_stopping = EarlyStopping(\n",
        "    monitor='val_loss',\n",
        "    patience=10,\n",
        "    restore_best_weights=True\n",
        ")\n",
        "\n",
        "# Kita atur epoch ke 50\n",
        "history = model.fit(X_train, y_train,\n",
        "                    epochs=55,\n",
        "                    batch_size=32,\n",
        "                    validation_data=(X_test, y_test),\n",
        "                    callbacks=[early_stopping], # Menambahkan callback di sini\n",
        "                    verbose=1)\n",
        "\n",
        "loss, accuracy = model.evaluate(X_test, y_test)\n",
        "print(f\"\\nAkurasi Akhir pada Data Validasi: {accuracy*100:.2f}%\")\n",
        "\n",
        "# Plot akan menunjukkan di mana training berhenti\n",
        "plt.figure(figsize=(10, 5))\n",
        "plt.plot(history.history['accuracy'], label='Akurasi Training')\n",
        "plt.plot(history.history['val_accuracy'], label='Akurasi Validasi')\n",
        "plt.title('Riwayat Akurasi Model')\n",
        "plt.xlabel('Epoch')\n",
        "plt.ylabel('Akurasi')\n",
        "plt.legend()\n",
        "plt.grid(True)\n",
        "plt.axhline(y=0.7, color='r', linestyle='--', label='Target 70%')\n",
        "plt.show()"
      ],
      "metadata": {
        "colab": {
          "base_uri": "https://localhost:8080/",
          "height": 921
        },
        "id": "6rTfS8lFLhI1",
        "outputId": "0c0282f4-cfeb-4865-f425-573a0cb95b6e"
      },
      "execution_count": 20,
      "outputs": [
        {
          "output_type": "stream",
          "name": "stdout",
          "text": [
            "Epoch 1/55\n",
            "\u001b[1m10/10\u001b[0m \u001b[32m━━━━━━━━━━━━━━━━━━━━\u001b[0m\u001b[37m\u001b[0m \u001b[1m0s\u001b[0m 15ms/step - accuracy: 0.9664 - loss: 0.1253 - val_accuracy: 0.9375 - val_loss: 0.1941\n",
            "Epoch 2/55\n",
            "\u001b[1m10/10\u001b[0m \u001b[32m━━━━━━━━━━━━━━━━━━━━\u001b[0m\u001b[37m\u001b[0m \u001b[1m0s\u001b[0m 9ms/step - accuracy: 0.9552 - loss: 0.1104 - val_accuracy: 0.9375 - val_loss: 0.1953\n",
            "Epoch 3/55\n",
            "\u001b[1m10/10\u001b[0m \u001b[32m━━━━━━━━━━━━━━━━━━━━\u001b[0m\u001b[37m\u001b[0m \u001b[1m0s\u001b[0m 9ms/step - accuracy: 0.9540 - loss: 0.1310 - val_accuracy: 0.9375 - val_loss: 0.1973\n",
            "Epoch 4/55\n",
            "\u001b[1m10/10\u001b[0m \u001b[32m━━━━━━━━━━━━━━━━━━━━\u001b[0m\u001b[37m\u001b[0m \u001b[1m0s\u001b[0m 9ms/step - accuracy: 0.9369 - loss: 0.1264 - val_accuracy: 0.9375 - val_loss: 0.2046\n",
            "Epoch 5/55\n",
            "\u001b[1m10/10\u001b[0m \u001b[32m━━━━━━━━━━━━━━━━━━━━\u001b[0m\u001b[37m\u001b[0m \u001b[1m0s\u001b[0m 9ms/step - accuracy: 0.9677 - loss: 0.0928 - val_accuracy: 0.9250 - val_loss: 0.2117\n",
            "Epoch 6/55\n",
            "\u001b[1m10/10\u001b[0m \u001b[32m━━━━━━━━━━━━━━━━━━━━\u001b[0m\u001b[37m\u001b[0m \u001b[1m0s\u001b[0m 9ms/step - accuracy: 0.9730 - loss: 0.0930 - val_accuracy: 0.9250 - val_loss: 0.2077\n",
            "Epoch 7/55\n",
            "\u001b[1m10/10\u001b[0m \u001b[32m━━━━━━━━━━━━━━━━━━━━\u001b[0m\u001b[37m\u001b[0m \u001b[1m0s\u001b[0m 9ms/step - accuracy: 0.9569 - loss: 0.1171 - val_accuracy: 0.9250 - val_loss: 0.2061\n",
            "Epoch 8/55\n",
            "\u001b[1m10/10\u001b[0m \u001b[32m━━━━━━━━━━━━━━━━━━━━\u001b[0m\u001b[37m\u001b[0m \u001b[1m0s\u001b[0m 9ms/step - accuracy: 0.9588 - loss: 0.1143 - val_accuracy: 0.9250 - val_loss: 0.2105\n",
            "Epoch 9/55\n",
            "\u001b[1m10/10\u001b[0m \u001b[32m━━━━━━━━━━━━━━━━━━━━\u001b[0m\u001b[37m\u001b[0m \u001b[1m0s\u001b[0m 9ms/step - accuracy: 0.9485 - loss: 0.1259 - val_accuracy: 0.9250 - val_loss: 0.2080\n",
            "Epoch 10/55\n",
            "\u001b[1m10/10\u001b[0m \u001b[32m━━━━━━━━━━━━━━━━━━━━\u001b[0m\u001b[37m\u001b[0m \u001b[1m0s\u001b[0m 11ms/step - accuracy: 0.9572 - loss: 0.1039 - val_accuracy: 0.9250 - val_loss: 0.2048\n",
            "Epoch 11/55\n",
            "\u001b[1m10/10\u001b[0m \u001b[32m━━━━━━━━━━━━━━━━━━━━\u001b[0m\u001b[37m\u001b[0m \u001b[1m0s\u001b[0m 9ms/step - accuracy: 0.9693 - loss: 0.0807 - val_accuracy: 0.9250 - val_loss: 0.2045\n",
            "\u001b[1m3/3\u001b[0m \u001b[32m━━━━━━━━━━━━━━━━━━━━\u001b[0m\u001b[37m\u001b[0m \u001b[1m0s\u001b[0m 12ms/step - accuracy: 0.9453 - loss: 0.1725\n",
            "\n",
            "Akurasi Akhir pada Data Validasi: 93.75%\n"
          ]
        },
        {
          "output_type": "display_data",
          "data": {
            "text/plain": [
              "<Figure size 1000x500 with 1 Axes>"
            ],
            "image/png": "[encoded data removed]"
          },
          "metadata": {}
        }
      ]
    },
    {
      "cell_type": "markdown",
      "source": [
        "Berdasarkan dari grafik diatas menunjukkan bahwa model Sequential yang saya bangun dan latih terdiri dari beberapa lapisan yang ditumpuk secara berurutan: dimulai dengan lapisan tersembunyi (dense) yang memiliki 64 neuron, diikuti lapisan kedua dengan 32 neuron, dan diakhiri dengan lapisan output (dense_2) yang memiliki 3 neuron, yang jumlahnya sesuai dengan tiga kategori target (Rendah, Sedang, Tinggi). Di antara lapisan-lapisan tersebut, terdapat lapisan Dropout yang berfungsi untuk mencegah model menjadi menghafal pada data latih (overfitting)."
      ],
      "metadata": {
        "id": "1T6UAe_0WEIk"
      }
    }
  ]
}